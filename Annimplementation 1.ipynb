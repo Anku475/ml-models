{
 "cells": [
  {
   "cell_type": "code",
   "execution_count": 2,
   "id": "fd818f0f",
   "metadata": {},
   "outputs": [],
   "source": [
    "import numpy as np"
   ]
  },
  {
   "cell_type": "code",
   "execution_count": 3,
   "id": "6180530f",
   "metadata": {},
   "outputs": [],
   "source": [
    "def sigmoid(x):\n",
    "    return 1/(1+np.exp(-x))"
   ]
  },
  {
   "cell_type": "code",
   "execution_count": 4,
   "id": "c76bc4b6",
   "metadata": {},
   "outputs": [],
   "source": [
    "def sugmoid_derivative(x):\n",
    "    return x*(1-x)"
   ]
  },
  {
   "cell_type": "code",
   "execution_count": 5,
   "id": "2bfefec1",
   "metadata": {},
   "outputs": [
    {
     "data": {
      "text/plain": [
       "array([[1, 0, 0],\n",
       "       [0, 1, 1],\n",
       "       [1, 0, 1],\n",
       "       [0, 1, 0]])"
      ]
     },
     "execution_count": 5,
     "metadata": {},
     "output_type": "execute_result"
    }
   ],
   "source": [
    "training_input=np.array([[1,0,0],[0,1,1],[1,0,1],[0,1,0]])\n",
    "training_input"
   ]
  },
  {
   "cell_type": "code",
   "execution_count": 6,
   "id": "11157406",
   "metadata": {},
   "outputs": [
    {
     "data": {
      "text/plain": [
       "array([[1, 0, 1, 0]])"
      ]
     },
     "execution_count": 6,
     "metadata": {},
     "output_type": "execute_result"
    }
   ],
   "source": [
    "training_output=np.array([[1,0,1,0]])\n",
    "training_output"
   ]
  },
  {
   "cell_type": "code",
   "execution_count": 7,
   "id": "05173f78",
   "metadata": {},
   "outputs": [
    {
     "data": {
      "text/plain": [
       "array([[1],\n",
       "       [0],\n",
       "       [1],\n",
       "       [0]])"
      ]
     },
     "execution_count": 7,
     "metadata": {},
     "output_type": "execute_result"
    }
   ],
   "source": [
    "# maja nhi aaya isliye\n",
    "\n",
    "training_output=np.array([[1,0,1,0]]).T\n",
    "training_output"
   ]
  },
  {
   "cell_type": "code",
   "execution_count": 8,
   "id": "ec1e7d73",
   "metadata": {},
   "outputs": [
    {
     "data": {
      "text/plain": [
       "array([[0.],\n",
       "       [0.],\n",
       "       [0.]])"
      ]
     },
     "execution_count": 8,
     "metadata": {},
     "output_type": "execute_result"
    }
   ],
   "source": [
    "weights=np.array([[0],[0],[0]],dtype='float64')\n",
    "weights\n"
   ]
  },
  {
   "cell_type": "code",
   "execution_count": 9,
   "id": "5721ae47",
   "metadata": {},
   "outputs": [
    {
     "data": {
      "text/plain": [
       "array([[0.99841383],\n",
       "       [0.00158617],\n",
       "       [0.99841383],\n",
       "       [0.00158617]])"
      ]
     },
     "execution_count": 9,
     "metadata": {},
     "output_type": "execute_result"
    }
   ],
   "source": [
    "# Training of neural network\n",
    "\n",
    "for i in range(100000):\n",
    "    input_layer=training_input\n",
    "    outputs=sigmoid(np.dot(input_layer,weights))\n",
    "    error=training_output-outputs\n",
    "    adujustment=error*sugmoid_derivative(outputs)\n",
    "    weights=weights+np.dot(input_layer.T,adujustment)\n",
    "outputs"
   ]
  },
  {
   "cell_type": "code",
   "execution_count": null,
   "id": "a4422fed",
   "metadata": {},
   "outputs": [],
   "source": []
  },
  {
   "cell_type": "code",
   "execution_count": null,
   "id": "de1096cc",
   "metadata": {},
   "outputs": [],
   "source": []
  },
  {
   "cell_type": "code",
   "execution_count": null,
   "id": "ced5cb6c",
   "metadata": {},
   "outputs": [],
   "source": []
  },
  {
   "cell_type": "code",
   "execution_count": null,
   "id": "6cef975b",
   "metadata": {},
   "outputs": [],
   "source": []
  }
 ],
 "metadata": {
  "kernelspec": {
   "display_name": "base",
   "language": "python",
   "name": "python3"
  },
  "language_info": {
   "codemirror_mode": {
    "name": "ipython",
    "version": 3
   },
   "file_extension": ".py",
   "mimetype": "text/x-python",
   "name": "python",
   "nbconvert_exporter": "python",
   "pygments_lexer": "ipython3",
   "version": "3.11.7"
  }
 },
 "nbformat": 4,
 "nbformat_minor": 5
}
